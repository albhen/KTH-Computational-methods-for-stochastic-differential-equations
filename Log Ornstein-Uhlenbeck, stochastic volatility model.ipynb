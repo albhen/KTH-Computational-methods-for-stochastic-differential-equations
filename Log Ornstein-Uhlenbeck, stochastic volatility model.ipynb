{
 "cells": [
  {
   "cell_type": "markdown",
   "metadata": {},
   "source": [
    "## Stochastic volatility model for option pricing using the Log Ornstein-Uhlenbeck model\n",
    "\n",
    "\n",
    "Consider a special case of the Log Ornstein-Uhlenbeck model, where the underlying asset $S_t$ satisfies the stochastic differential equation\n",
    "\n",
    "$$dS_t=rS_tdt+e^{Y_t}S_tdW_t,$$ $$dY_t=(-\\alpha(2+Y_t)+0.4\\sqrt{\\alpha}\\sqrt{1-\\rho^2})dt+0.4\\sqrt{\\alpha}dZ_t,$$ $$dZ_t=\\rho dW_t+\\sqrt{1-\\rho^2}dB_t.$$\n",
    "Here, $W_t$ and $B_t$ are two independent Brownian motions and $e^{Y_t}$ is the stochastic volatility.\n",
    "\n",
    "We want to estimate the European call option price  \n",
    "\n",
    "$$e^{-rT}\\mathbb{E}[\\text{max}(S_T-K,0)]$$\n",
    "\n",
    "where $e^{-rT}$ is the discount factor, $K$ is the strike price, and $T$ is the time at maturity of the option. In order to obtain $S_T$, we will perform a forward Euler discretization of the SDE system and simulate $S_t$ to maturity of the option.\n",
    "\n",
    "Using the time discretization $t_n=n\\Delta t,\\hspace{1mm} n=1,2..N$ where $\\Delta t=\\frac{T}{N}$, the problem discretizes to\n",
    "\n",
    "$$S_{n+1}-S_n=rS_n\\Delta t+e^{Y_n}S_n(W_{n+1}-W_n),$$\n",
    "$$Y_{n+1}-Y_n=(-\\alpha(2+Y_n)+0.4\\sqrt{\\alpha}\\sqrt{1-\\rho^2})\\Delta t+0.4\\sqrt{\\alpha}(Z_{n+1}-Z_n),$$ $$Z_{n+1}-Z_n=\\rho (W_{n+1}-W_n)+\\sqrt{1-\\rho^2}(B_{n+1}-B_n),$$\n",
    "\n",
    "where $W_{n+1}-W_n,$ and $B_{n+1}-B_n$ are $N(0,\\Delta t)$ distributed. We will consider an at the money call option with parameters $\\alpha=100, \\rho=-0.3, r=0.04, T=0.75, Y_0=-1$ and $S_0=K=100$."
   ]
  },
  {
   "cell_type": "code",
   "execution_count": 382,
   "metadata": {},
   "outputs": [],
   "source": [
    "\"\"\"Libraries we will use.\"\"\"\n",
    "\n",
    "import numpy as np\n",
    "import matplotlib.pyplot as plt\n",
    "import scipy as sp"
   ]
  },
  {
   "cell_type": "code",
   "execution_count": 253,
   "metadata": {},
   "outputs": [],
   "source": [
    "\"\"\"Some global variables.\"\"\"\n",
    "\n",
    "T=0.75\n",
    "alpha=100\n",
    "rho=-0.3\n",
    "r=0.04\n",
    "Y_0=-1\n",
    "S_0=100\n",
    "K=100"
   ]
  },
  {
   "cell_type": "code",
   "execution_count": 600,
   "metadata": {},
   "outputs": [],
   "source": [
    "\"\"\"This function discretizes the system of SDE's and solves for S_t on the given time interval using forward Euler.\"\"\"\n",
    "\n",
    "def LogOU_forward_euler(N,M):      # N is the number of timesteps, hence it determines the timestep dt=T/N.\n",
    "                                   # M is the number of simulations.\n",
    "    \n",
    "    \"\"\"Creating matrices for the stochastic processes,\n",
    "    and initializing Y_0 and S_0.\"\"\"\n",
    "#    sp.random.seed(200)\n",
    "    dt=T/N\n",
    "    Y=np.zeros((M,N))\n",
    "    S=np.zeros((M,N))\n",
    "    Y[:,0]=Y_0*np.ones(M)\n",
    "    S[:,0]=S_0*np.ones(M)\n",
    "    \n",
    "    \"\"\"Forward Euler steps. Drawing M*(N-1) values from a N(0,dt) distribution, one\n",
    "    for each simulation and timestep. \"\"\"\n",
    "    \n",
    "    dW=np.random.normal(0, np.sqrt(dt), size=(M,N-1))   \n",
    "    dB=np.random.normal(0, np.sqrt(dt), size=(M,N-1))\n",
    "    dZ=rho*dW+np.sqrt(1-rho**2)*dB\n",
    "    for i in range(N-1):\n",
    "        Y[:,i+1]=Y[:,i]+(-alpha*(2+Y[:,i])+0.4*np.sqrt(alpha)*np.sqrt(1-rho**2))*dt+0.4*np.sqrt(alpha)*dZ[:,i]\n",
    "        S[:,i+1]=S[:,i]+r*S[:,i]*dt+np.exp(Y[:,i])*S[:,i]*dW[:,i]\n",
    "\n",
    "    return S"
   ]
  },
  {
   "cell_type": "code",
   "execution_count": 601,
   "metadata": {},
   "outputs": [],
   "source": [
    "\"\"\"This function discretizes the system of SDE's and solves for S_t on the given time interval using forward Euler.\n",
    "The antithetic variance reduction method is implemented here.\"\"\"\n",
    "\n",
    "def LogOU_forward_euler_antithetic(N,M):      # N is the number of timesteps, hence it determines the timestep dt=T/N.\n",
    "                                              # M is the number of simulations.\n",
    "    \n",
    "    \"\"\"Creating matrices for the stochastic processes,\n",
    "    and initializing Y_0 and S_0.\"\"\"\n",
    " #   sp.random.seed(200)\n",
    "    dt=T/N\n",
    "    Y=np.zeros((2*M,N))\n",
    "    S=np.zeros((2*M,N))\n",
    "    Y[:,0]=Y_0*np.ones(2*M)\n",
    "    S[:,0]=S_0*np.ones(2*M)\n",
    "    \n",
    "    \"\"\"Forward Euler steps. Drawing M*(N-1) values from a N(0,dt) distribution, one\n",
    "    for each simulation and timestep. \"\"\"\n",
    "    \n",
    "    dW=np.random.normal(0, np.sqrt(dt), size=(M,N-1))   \n",
    "    dW=np.vstack((dW,-dW))                             # Antithetic variables method for variance reduction\n",
    "    dB=np.random.normal(0, np.sqrt(dt), size=(M,N-1))\n",
    "    dB=np.vstack((dB,-dB))\n",
    "    dZ=rho*dW+np.sqrt(1-rho**2)*dB\n",
    "    for i in range(N-1):\n",
    "        Y[:,i+1]=Y[:,i]+(-alpha*(2+Y[:,i])+0.4*np.sqrt(alpha)*np.sqrt(1-rho**2))*dt+0.4*np.sqrt(alpha)*dZ[:,i]\n",
    "        S[:,i+1]=S[:,i]+r*S[:,i]*dt+np.exp(Y[:,i])*S[:,i]*dW[:,i]\n",
    "\n",
    "    return S"
   ]
  },
  {
   "cell_type": "code",
   "execution_count": 602,
   "metadata": {},
   "outputs": [
    {
     "name": "stdout",
     "output_type": "stream",
     "text": [
      "[[ 0.0051235   0.00132586]\n",
      " [ 0.00639192  0.01075476]\n",
      " [-0.0051235  -0.00132586]\n",
      " [-0.00639192 -0.01075476]]\n",
      "[[-0.00782389 -0.00842994]\n",
      " [-0.00342736  0.00878548]\n",
      " [ 0.00782389  0.00842994]\n",
      " [ 0.00342736 -0.00878548]]\n"
     ]
    }
   ],
   "source": [
    "M=2\n",
    "N=3\n",
    "dW=np.random.normal(0, np.sqrt(dt), size=(M,N-1))   # Drawing M values from a N(0,dt) distribution.\n",
    "dW=np.vstack((dW,-dW))\n",
    "dB=np.random.normal(0, np.sqrt(dt), size=(M,N-1))\n",
    "dB=np.vstack((dB,-dB))\n",
    "dZ=rho*dW+np.sqrt(1-rho**2)*dB\n",
    "print(dW)\n",
    "print(dZ)"
   ]
  },
  {
   "cell_type": "code",
   "execution_count": 603,
   "metadata": {},
   "outputs": [
    {
     "data": {
      "image/png": "[encoded data removed]",
      "text/plain": [
       "<Figure size 432x288 with 1 Axes>"
      ]
     },
     "metadata": {
      "needs_background": "light"
     },
     "output_type": "display_data"
    }
   ],
   "source": [
    "\"\"\"Some plotting of S_t.\"\"\"\n",
    "\n",
    "N=1000\n",
    "M=1\n",
    "t=np.linspace(0,T,N)\n",
    "S=LogOU_forward_euler1(N,M)\n",
    "plt.plot(t,S.T)\n",
    "plt.title(str(M)+\" simulations of $S_t$ vs time for $0\\leq t\\leq T$\")\n",
    "plt.ylabel(\"$S_t$\")\n",
    "plt.xlabel(\"$t$\")\n",
    "plt.grid(True)\n"
   ]
  },
  {
   "cell_type": "markdown",
   "metadata": {},
   "source": [
    "Now, we use the Monte Carlo estimate of the expectation. This estimate approaches the true expectation as we increase the number of simulations $M$ in accordance with the law of large numbers. We have\n",
    "$$e^{-rT}\\mathbb{E}[\\text{max}(S_T-K,0)\\approx \\frac{1}{M}\\sum_{j=1}^Me^{-rT}\\text{max}(S^k_T-K,0)$$ \n",
    "where $S^k_T, k=1,2..M$ are samples of $S_T$ using the forward Euler discretization."
   ]
  },
  {
   "cell_type": "code",
   "execution_count": 615,
   "metadata": {
    "scrolled": false
   },
   "outputs": [
    {
     "name": "stdout",
     "output_type": "stream",
     "text": [
      "--- 3.67771053314209 seconds ---\n",
      "Call option price:6.905215163323661, Variance:85.88487300564006 Standard error:0.06553047878874381\n"
     ]
    }
   ],
   "source": [
    "\"\"\"The expression for C below is a vector containing M samples of exp(-rT)max(S^k_T-K,0). \n",
    "We calculate the mean of C to obtain an estimate of the true option price. \n",
    "It is important to let M be large in order to ensure convergence.\"\"\"\n",
    "\n",
    "\n",
    "import time\n",
    "start_time = time.time()\n",
    "N=1000\n",
    "M=2*10**4\n",
    "S=LogOU_forward_euler1(N,M)                                      # No variance reduction\n",
    "print(\"--- %s seconds ---\" % (time.time() - start_time))\n",
    "C=np.exp(-r*T)*np.maximum(S[:,-1]-K*np.ones(M),np.zeros(M)) \n",
    "C_mean=np.mean(C)\n",
    "C_variance=np.std(C)**2\n",
    "C_se=np.std(C)/np.sqrt(M)\n",
    "\n",
    "print(\"Call option price:{0}, Variance:{1} Standard error:{2}\".format(C_mean, C_variance, C_se))"
   ]
  },
  {
   "cell_type": "markdown",
   "metadata": {},
   "source": [
    "## Calculating call option price and standard deviation using the antithetic variance reducing method:"
   ]
  },
  {
   "cell_type": "code",
   "execution_count": 614,
   "metadata": {},
   "outputs": [
    {
     "name": "stdout",
     "output_type": "stream",
     "text": [
      "--- 3.2524569034576416 seconds ---\n",
      "Call option price:6.8894949601267435, Variance:86.42773461421986 Standard error:0.09296651795900493\n"
     ]
    }
   ],
   "source": [
    "\"\"\"The expression for C below is a vector containing M samples of exp(-rT)max(S^k_T-K,0). \n",
    "We calculate the mean of C to obtain an estimate of the true option price. \n",
    "It is important to let M be large in order to ensure convergence.\"\"\"\n",
    "\n",
    "import time\n",
    "start_time = time.time()\n",
    "N=1000\n",
    "M=10**4\n",
    "S=LogOU_forward_euler_antithetic(N,M)                                 # Variance reduction\n",
    "print(\"--- %s seconds ---\" % (time.time() - start_time))\n",
    "C=np.exp(-r*T)*np.maximum(S[:,-1]-K*np.ones(2*M),np.zeros(2*M)) \n",
    "C_mean=np.mean(C)\n",
    "C_variance=np.std(C)**2\n",
    "C_se=np.std(C)/np.sqrt(M)\n",
    "\n",
    "print(\"Call option price:{0}, Variance:{1} Standard error:{2}\".format(C_mean, C_variance, C_se))"
   ]
  },
  {
   "cell_type": "code",
   "execution_count": null,
   "metadata": {},
   "outputs": [],
   "source": []
  },
  {
   "cell_type": "code",
   "execution_count": null,
   "metadata": {},
   "outputs": [],
   "source": []
  },
  {
   "cell_type": "code",
   "execution_count": null,
   "metadata": {},
   "outputs": [],
   "source": []
  }
 ],
 "metadata": {
  "kernelspec": {
   "display_name": "Python 3",
   "language": "python",
   "name": "python3"
  },
  "language_info": {
   "codemirror_mode": {
    "name": "ipython",
    "version": 3
   },
   "file_extension": ".py",
   "mimetype": "text/x-python",
   "name": "python",
   "nbconvert_exporter": "python",
   "pygments_lexer": "ipython3",
   "version": "3.8.3"
  }
 },
 "nbformat": 4,
 "nbformat_minor": 4
}
